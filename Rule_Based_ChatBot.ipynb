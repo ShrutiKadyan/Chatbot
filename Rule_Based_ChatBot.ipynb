{
  "cells": [
    {
      "cell_type": "code",
      "execution_count": null,
      "metadata": {
        "id": "xiKQmAxzChtT"
      },
      "outputs": [],
      "source": [
        "import re\n",
        "import random"
      ]
    },
    {
      "cell_type": "code",
      "execution_count": null,
      "metadata": {
        "colab": {
          "background_save": true,
          "base_uri": "https://localhost:8080/"
        },
        "id": "x4rs_R-iOLl8",
        "outputId": "f60a7aca-b919-4937-8e10-f82c8aa8f44e"
      },
      "outputs": [
        {
          "name": "stdout",
          "output_type": "stream",
          "text": [
            "Hi, I am Rule-Bot. I'd like to chat with you.\n",
            "Rule-Bot: How do you think I feel when you say that?\n"
          ]
        }
      ],
      "source": [
        "class RuleBot:\n",
        "    # Potential Negative Responses\n",
        "    negative_responses = (\"no\", \"nope\", \"nah\", \"not a chance\", \"sorry\")\n",
        "    # Exit conversation keywords\n",
        "    exit_commands = (\"quit\", \"pause\", \"exit\", \"goodbye\", \"bye\", \"later\")\n",
        "    # Random starter question\n",
        "    random_questions = (\n",
        "        \"Why are you here? \",\n",
        "        \"Are there many humans like you? \",\n",
        "        \"What do you consume for sustenance? \",\n",
        "        \"Is there intelligent life on this planet? \",\n",
        "        \"Does Earth have a leader? \",\n",
        "        \"What planets have you visited? \",\n",
        "    )\n",
        "\n",
        "    def __init__(self):\n",
        "        self.alienbabble = {\n",
        "            'describe_planet_intent': r'.*\\s*your planet.*',\n",
        "            'answer_why_intent': r'why\\sare.*',\n",
        "            'about_universe': r'.*\\s*universe'\n",
        "        }\n",
        "\n",
        "    def greet(self):\n",
        "        print(\"Hi, I am Rule-Bot. I'd like to chat with you.\")\n",
        "        self.name = input(\"Rule-Bot: What is your name?\\nYou: \")\n",
        "        will_help = input(f\"Hi {self.name}, I am Rule-Bot. Will you help me learn about your planet?\\nYou: \")\n",
        "        if will_help in self.negative_responses:\n",
        "            print(\"Rule-Bot: Ok, have a nice day!\")\n",
        "            return\n",
        "        self.chat()\n",
        "\n",
        "    def make_exit(self, reply):\n",
        "        for command in self.exit_commands:\n",
        "            if reply == command:\n",
        "                print(\"Rule-Bot: Okay, have a nice day!\")\n",
        "                return True\n",
        "\n",
        "    def chat(self):\n",
        "        reply = input(random.choice(self.random_questions)).lower()\n",
        "        while not self.make_exit(reply):\n",
        "            self.chatbot_says(self.match_reply(reply))\n",
        "            reply = input(\"You: \").lower()\n",
        "            if self.make_exit(reply):\n",
        "                break\n",
        "            self.chatbot_says(self.match_reply(reply))\n",
        "            if reply in self.negative_responses:\n",
        "                print(\"Rule-Bot: Sorry, I can't understand.\")\n",
        "                print(\"Rule-Bot: Bye!\")\n",
        "                break\n",
        "            reply = input(\"You: \").lower()\n",
        "\n",
        "    def chatbot_says(self, statement):\n",
        "        print(\"Rule-Bot:\", statement)\n",
        "\n",
        "    def match_reply(self, reply):\n",
        "        for key, value in self.alienbabble.items():\n",
        "            intent = key\n",
        "            regex_pattern = value\n",
        "            found_match = re.match(regex_pattern, reply)\n",
        "            if found_match and intent == 'describe_planet_intent':\n",
        "                return self.describe_planet_intent()\n",
        "            elif found_match and intent == 'answer_why_intent':\n",
        "                return self.answer_why_intent()\n",
        "            elif found_match and intent == 'about_universe':\n",
        "                return self.about_universe()\n",
        "        if not found_match:\n",
        "            return self.no_match_intent()\n",
        "\n",
        "    def describe_planet_intent(self):\n",
        "        responses = [\n",
        "            \"My planet is a utopia of diverse organisms and species.\",\n",
        "            \"I am from Opidipus, the capital of the Wayward Galaxies.\"\n",
        "        ]\n",
        "        return random.choice(responses)\n",
        "\n",
        "    def answer_why_intent(self):\n",
        "        responses = [\n",
        "            \"I come in peace.\",\n",
        "            \"I am here to collect data on your planet and its inhabitants.\",\n",
        "            \"I heard the coffee is good.\"\n",
        "        ]\n",
        "        return random.choice(responses)\n",
        "\n",
        "    def about_universe(self):\n",
        "        responses = [\n",
        "            \"The universe is all of space and time and their contents, including planets, stars, galaxies, and all other forms of matter and energy.\",\n",
        "            \"The Big Bang theory is the prevailing cosmological description of the development of the universe.\"\n",
        "        ]\n",
        "        return random.choice(responses)\n",
        "\n",
        "    def no_match_intent(self):\n",
        "        responses = [\n",
        "            \"Please tell me more.\",\n",
        "            \"Tell me more!\",\n",
        "            \"Why do you say that?\",\n",
        "            \"I see. Can you elaborate?\",\n",
        "            \"Interesting. Can you tell me more?\",\n",
        "            \"I see. How do you think?\",\n",
        "            \"Why?\",\n",
        "            \"How do you think I feel when you say that?\"\n",
        "        ]\n",
        "        return random.choice(responses)\n",
        "\n",
        "AlienBot = RuleBot()\n",
        "AlienBot.greet()"
      ]
    }
  ],
  "metadata": {
    "colab": {
      "provenance": []
    },
    "kernelspec": {
      "display_name": "Python 3",
      "name": "python3"
    },
    "language_info": {
      "name": "python"
    }
  },
  "nbformat": 4,
  "nbformat_minor": 0
}